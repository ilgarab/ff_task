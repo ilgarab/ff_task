{
  "nbformat": 4,
  "nbformat_minor": 0,
  "metadata": {
    "colab": {
      "name": "Untitled0.ipynb",
      "provenance": []
    },
    "kernelspec": {
      "name": "python3",
      "display_name": "Python 3"
    },
    "language_info": {
      "name": "python"
    }
  },
  "cells": [
    {
      "cell_type": "code",
      "execution_count": null,
      "metadata": {
        "id": "-02U7CPL9yqp"
      },
      "outputs": [],
      "source": [
        "import numpy as np\n",
        "import pandas as pd\n",
        "import matplotlib.pyplot as plt\n",
        "import seaborn as sns\n",
        "confirmed=pd.read_csv('https://raw.githubusercontent.com/CSSEGISandData/COVID-19/master/csse_covid_19_data/csse_covid_19_time_series/time_series_covid19_confirmed_global.csv')\n",
        "\n",
        "\n",
        "#quick review of dataframe\n",
        "confirmed.info\n",
        "confirmed.describe()\n",
        "\n",
        "\n",
        "\n",
        "#### groupping data according to Country_Region\n",
        "world_confirmed = confirmed.groupby(\"Country/Region\")['3/22/22','3/23/22','3/24/22','3/25/22','3/26/22','3/27/22','3/28/22'].sum().reset_index()\n",
        "world_confirmed.head()  # result during a week\n",
        "\n",
        "\n",
        "### Vizualization of to 10 countries based on last date label\"\n",
        "top_10 = world_confirmed.sort_values(by='3/28/22', ascending=False).head(20)\n",
        "plt.figure(figsize=(12,10))\n",
        "plot = sns.barplot(top_10['3/28/22'], top_10['Country/Region'])   #top 10 olke\n",
        "plt.show()"
      ]
    }
  ]
}